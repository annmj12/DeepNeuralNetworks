{
  "nbformat": 4,
  "nbformat_minor": 0,
  "metadata": {
    "colab": {
      "provenance": [],
      "authorship_tag": "ABX9TyPRYo8/Ku7nCywsCs49amSy",
      "include_colab_link": true
    },
    "kernelspec": {
      "name": "python3",
      "display_name": "Python 3"
    }
  },
  "cells": [
    {
      "cell_type": "markdown",
      "metadata": {
        "id": "view-in-github",
        "colab_type": "text"
      },
      "source": [
        "<a href=\"https://colab.research.google.com/github/annmj12/DeepNeuralNetworks/blob/main/AnnMaryJoseProject.ipynb\" target=\"_parent\"><img src=\"https://colab.research.google.com/assets/colab-badge.svg\" alt=\"Open In Colab\"/></a>"
      ]
    },
    {
      "cell_type": "markdown",
      "metadata": {
        "id": "u79WQpUjawkG"
      },
      "source": [
        "Deep Neural Networks"
      ]
    },
    {
      "cell_type": "code",
      "metadata": {
        "id": "DvPRTiEpe4-f"
      },
      "source": [
        "import tensorflow as tf\n",
        "from tensorflow.keras.models import Sequential\n",
        "from tensorflow.keras.layers import Input, Dense\n",
        "import numpy as np\n",
        "\n",
        "from tensorflow.keras.datasets import fashion_mnist # Importing mnist fashion dataset\n",
        "data = fashion_mnist.load_data()\n",
        "((trainX, trainY), (testX, testY)) = fashion_mnist.load_data()\n"
      ],
      "execution_count": null,
      "outputs": []
    },
    {
      "cell_type": "code",
      "metadata": {
        "colab": {
          "base_uri": "https://localhost:8080/"
        },
        "id": "8pJWj5LQgr63",
        "outputId": "c36a370b-0c2a-4f16-a662-d08384509e92"
      },
      "source": [
        "trainX[0].shape"
      ],
      "execution_count": null,
      "outputs": [
        {
          "output_type": "execute_result",
          "data": {
            "text/plain": [
              "(28, 28)"
            ]
          },
          "metadata": {
            "tags": []
          },
          "execution_count": 104
        }
      ]
    },
    {
      "cell_type": "code",
      "metadata": {
        "id": "d_XM2-wChOh4"
      },
      "source": [
        "trainX = trainX.reshape((trainX.shape[0], 28*28)).astype('float32')\n",
        "testX = testX.reshape((testX.shape[0], 28*28)).astype('float32')\n",
        "\n",
        "trainX = trainX / 255.0\n",
        "testX = testX / 255.0\n"
      ],
      "execution_count": null,
      "outputs": []
    },
    {
      "cell_type": "code",
      "metadata": {
        "id": "wPTAdMk5ksnS"
      },
      "source": [
        "from keras.utils import np_utils\n",
        "trainY = np_utils.to_categorical(trainY)\n",
        "testY = np_utils.to_categorical(testY)"
      ],
      "execution_count": null,
      "outputs": []
    },
    {
      "cell_type": "code",
      "metadata": {
        "id": "JDZIVO2Hmwru"
      },
      "source": [
        "from keras.models import Sequential\n",
        "from keras.layers import Dense\n",
        "from keras.layers import Dropout"
      ],
      "execution_count": null,
      "outputs": []
    },
    {
      "cell_type": "code",
      "metadata": {
        "id": "ma8Th5VLsFIf"
      },
      "source": [
        "model = Sequential()\n",
        "model.add(Dense(32, input_dim = 28*28, activation='relu'))\n",
        "model.add(Dense(64, activation='relu'))\n",
        "model.add(Dense(128,activation='relu'))\n",
        "model.add(Dense(256, activation='relu'))\n",
        "model.add(Dense(512, activation='relu')) # Five hidden layers\n",
        "model.add(Dense(10, activation='softmax'))"
      ],
      "execution_count": null,
      "outputs": []
    },
    {
      "cell_type": "code",
      "metadata": {
        "id": "UDBLhj12vdUq"
      },
      "source": [
        "model.compile(loss='categorical_crossentropy', optimizer='adam', metrics=['accuracy'])"
      ],
      "execution_count": null,
      "outputs": []
    },
    {
      "cell_type": "code",
      "metadata": {
        "colab": {
          "base_uri": "https://localhost:8080/"
        },
        "id": "z4LgJzAGwLLj",
        "outputId": "a858b0a2-2ac7-460d-ecff-07b4641b6ea9"
      },
      "source": [
        "model.summary()"
      ],
      "execution_count": null,
      "outputs": [
        {
          "output_type": "stream",
          "text": [
            "Model: \"sequential_16\"\n",
            "_________________________________________________________________\n",
            "Layer (type)                 Output Shape              Param #   \n",
            "=================================================================\n",
            "dense_53 (Dense)             (None, 32)                25120     \n",
            "_________________________________________________________________\n",
            "dense_54 (Dense)             (None, 64)                2112      \n",
            "_________________________________________________________________\n",
            "dense_55 (Dense)             (None, 128)               8320      \n",
            "_________________________________________________________________\n",
            "dense_56 (Dense)             (None, 256)               33024     \n",
            "_________________________________________________________________\n",
            "dense_57 (Dense)             (None, 512)               131584    \n",
            "_________________________________________________________________\n",
            "dense_58 (Dense)             (None, 10)                5130      \n",
            "=================================================================\n",
            "Total params: 205,290\n",
            "Trainable params: 205,290\n",
            "Non-trainable params: 0\n",
            "_________________________________________________________________\n"
          ],
          "name": "stdout"
        }
      ]
    },
    {
      "cell_type": "code",
      "metadata": {
        "colab": {
          "base_uri": "https://localhost:8080/"
        },
        "id": "_vHJA-Yeyayv",
        "outputId": "bd130193-e044-47f7-dde1-b2345cf346c7"
      },
      "source": [
        "model.fit(trainX, trainY, validation_split=0.2, epochs=20, batch_size=400)"
      ],
      "execution_count": null,
      "outputs": [
        {
          "output_type": "stream",
          "text": [
            "Epoch 1/20\n",
            "120/120 [==============================] - 3s 19ms/step - loss: 1.1439 - accuracy: 0.5943 - val_loss: 0.5043 - val_accuracy: 0.8203\n",
            "Epoch 2/20\n",
            "120/120 [==============================] - 2s 17ms/step - loss: 0.4673 - accuracy: 0.8306 - val_loss: 0.4489 - val_accuracy: 0.8405\n",
            "Epoch 3/20\n",
            "120/120 [==============================] - 2s 17ms/step - loss: 0.4013 - accuracy: 0.8528 - val_loss: 0.4325 - val_accuracy: 0.8413\n",
            "Epoch 4/20\n",
            "120/120 [==============================] - 2s 17ms/step - loss: 0.3839 - accuracy: 0.8591 - val_loss: 0.3865 - val_accuracy: 0.8592\n",
            "Epoch 5/20\n",
            "120/120 [==============================] - 2s 17ms/step - loss: 0.3531 - accuracy: 0.8684 - val_loss: 0.3573 - val_accuracy: 0.8703\n",
            "Epoch 6/20\n",
            "120/120 [==============================] - 2s 17ms/step - loss: 0.3369 - accuracy: 0.8754 - val_loss: 0.3509 - val_accuracy: 0.8742\n",
            "Epoch 7/20\n",
            "120/120 [==============================] - 2s 17ms/step - loss: 0.3158 - accuracy: 0.8836 - val_loss: 0.3627 - val_accuracy: 0.8662\n",
            "Epoch 8/20\n",
            "120/120 [==============================] - 2s 18ms/step - loss: 0.3036 - accuracy: 0.8880 - val_loss: 0.3525 - val_accuracy: 0.8739\n",
            "Epoch 9/20\n",
            "120/120 [==============================] - 2s 18ms/step - loss: 0.3005 - accuracy: 0.8887 - val_loss: 0.3390 - val_accuracy: 0.8794\n",
            "Epoch 10/20\n",
            "120/120 [==============================] - 2s 18ms/step - loss: 0.2924 - accuracy: 0.8914 - val_loss: 0.3565 - val_accuracy: 0.8737\n",
            "Epoch 11/20\n",
            "120/120 [==============================] - 2s 17ms/step - loss: 0.2832 - accuracy: 0.8945 - val_loss: 0.3468 - val_accuracy: 0.8742\n",
            "Epoch 12/20\n",
            "120/120 [==============================] - 2s 18ms/step - loss: 0.2754 - accuracy: 0.8943 - val_loss: 0.3461 - val_accuracy: 0.8776\n",
            "Epoch 13/20\n",
            "120/120 [==============================] - 2s 18ms/step - loss: 0.2654 - accuracy: 0.8995 - val_loss: 0.3417 - val_accuracy: 0.8776\n",
            "Epoch 14/20\n",
            "120/120 [==============================] - 2s 18ms/step - loss: 0.2630 - accuracy: 0.9006 - val_loss: 0.3780 - val_accuracy: 0.8702\n",
            "Epoch 15/20\n",
            "120/120 [==============================] - 2s 17ms/step - loss: 0.2627 - accuracy: 0.9006 - val_loss: 0.3502 - val_accuracy: 0.8744\n",
            "Epoch 16/20\n",
            "120/120 [==============================] - 2s 18ms/step - loss: 0.2452 - accuracy: 0.9089 - val_loss: 0.3467 - val_accuracy: 0.8772\n",
            "Epoch 17/20\n",
            "120/120 [==============================] - 2s 17ms/step - loss: 0.2460 - accuracy: 0.9091 - val_loss: 0.3420 - val_accuracy: 0.8808\n",
            "Epoch 18/20\n",
            "120/120 [==============================] - 2s 17ms/step - loss: 0.2364 - accuracy: 0.9131 - val_loss: 0.3417 - val_accuracy: 0.8859\n",
            "Epoch 19/20\n",
            "120/120 [==============================] - 2s 18ms/step - loss: 0.2335 - accuracy: 0.9118 - val_loss: 0.3324 - val_accuracy: 0.8826\n",
            "Epoch 20/20\n",
            "120/120 [==============================] - 2s 18ms/step - loss: 0.2188 - accuracy: 0.9176 - val_loss: 0.3405 - val_accuracy: 0.8824\n"
          ],
          "name": "stdout"
        },
        {
          "output_type": "execute_result",
          "data": {
            "text/plain": [
              "<tensorflow.python.keras.callbacks.History at 0x7f07f170d470>"
            ]
          },
          "metadata": {
            "tags": []
          },
          "execution_count": 123
        }
      ]
    },
    {
      "cell_type": "code",
      "metadata": {
        "colab": {
          "base_uri": "https://localhost:8080/"
        },
        "id": "BLBEu5FlId3y",
        "outputId": "a5cba839-99eb-4409-ce25-a6391f32c492"
      },
      "source": [
        "scores = model.evaluate(testX, testY)\n",
        "print(scores)"
      ],
      "execution_count": null,
      "outputs": [
        {
          "output_type": "stream",
          "text": [
            "313/313 [==============================] - 1s 2ms/step - loss: 0.3729 - accuracy: 0.8730\n",
            "[0.37294960021972656, 0.8730000257492065]\n"
          ],
          "name": "stdout"
        }
      ]
    }
  ]
}